{
 "cells": [
  {
   "cell_type": "code",
   "execution_count": 1,
   "metadata": {
    "collapsed": true
   },
   "outputs": [],
   "source": [
    "import parameters\n",
    "from parameters import *"
   ]
  },
  {
   "cell_type": "code",
   "execution_count": null,
   "metadata": {
    "collapsed": false,
    "scrolled": false
   },
   "outputs": [
    {
     "data": {
      "application/javascript": [
       "require.undef(\"nbextensions/vpython_libraries/jquery-ui.custom.min\");"
      ],
      "text/plain": [
       "<IPython.core.display.Javascript object>"
      ]
     },
     "metadata": {},
     "output_type": "display_data"
    },
    {
     "data": {
      "application/javascript": [
       "require.undef(\"nbextensions/vpython_libraries/glow.2.1.min\");"
      ],
      "text/plain": [
       "<IPython.core.display.Javascript object>"
      ]
     },
     "metadata": {},
     "output_type": "display_data"
    },
    {
     "data": {
      "application/javascript": [
       "require.undef(\"nbextensions/vpython_libraries/glowcomm\");"
      ],
      "text/plain": [
       "<IPython.core.display.Javascript object>"
      ]
     },
     "metadata": {},
     "output_type": "display_data"
    },
    {
     "data": {
      "application/javascript": [
       "require([\"nbextensions/vpython_libraries/jquery-ui.custom.min\"], function(){console.log(\"JQUERY LOADED\");})"
      ],
      "text/plain": [
       "<IPython.core.display.Javascript object>"
      ]
     },
     "metadata": {},
     "output_type": "display_data"
    },
    {
     "data": {
      "application/javascript": [
       "require([\"nbextensions/vpython_libraries/glow.2.1.min\"], function(){console.log(\"GLOW LOADED\");})"
      ],
      "text/plain": [
       "<IPython.core.display.Javascript object>"
      ]
     },
     "metadata": {},
     "output_type": "display_data"
    },
    {
     "data": {
      "application/javascript": [
       "require([\"nbextensions/vpython_libraries/glowcomm\"], function(){console.log(\"GLOWCOMM LOADED\");})"
      ],
      "text/plain": [
       "<IPython.core.display.Javascript object>"
      ]
     },
     "metadata": {},
     "output_type": "display_data"
    },
    {
     "data": {
      "text/html": [
       "<div id=\"glowscript\" class=\"glowscript\"></div>"
      ],
      "text/plain": [
       "<IPython.core.display.HTML object>"
      ]
     },
     "metadata": {},
     "output_type": "display_data"
    },
    {
     "data": {
      "application/javascript": [
       "window.__context = { glowscript_container: $(\"#glowscript\").removeAttr(\"id\")}"
      ],
      "text/plain": [
       "<IPython.core.display.Javascript object>"
      ]
     },
     "metadata": {},
     "output_type": "display_data"
    }
   ],
   "source": [
    "import numpy as np\n",
    "import vpython as vp\n",
    "\n",
    "M_wasp55b = 5.38535e-4\n",
    "M_wasp55 = 1.0\n",
    "\n",
    "G_grav = 4.0*np.pi**2.0\n",
    "\n",
    "def F_gravity(r, m=M_wasp55b, M=M_wasp55):\n",
    "    rr = np.sum(r*r)\n",
    "    rhat = r/np.sqrt(rr)\n",
    "    return -G_grav*m*M/rr * rhat\n",
    "\n",
    "def vp_planet_orbit(r0=np.array([1.217, 0.0, 0.0]), v0=np.array([0.0, 6.179, 0.0]), mass=M_wasp55b, dt=0.001):\n",
    "    \"\"\"Visualize 2D planetary motion with velocity verlet\n",
    "    NB: the mass and radius of WASP55 have been normalized\n",
    "    to 1, which has been used to calculate the normalized \n",
    "    radius and mass of WASP55b.\n",
    "    ----------\n",
    "    Distance is in AU and velocity is in AU/year\n",
    "    \n",
    "    0.14396  22.31\n",
    "    ----------\n",
    "    \"\"\"\n",
    "    dim = len(r0)\n",
    "    assert len(v0) == dim\n",
    "\n",
    "    r = np.array(r0, copy=True)\n",
    "    v = np.array(v0, copy=True)\n",
    "\n",
    "    \n",
    "    scene = vp.display(title=\"WASP-55b around WASP-55\",background=vp.color.black,\n",
    "                      forward=vp.vec(0.0, 2.0, -1.0))\n",
    "    planet = vp.sphere(pos=vp.vector(*r), radius=0.1, make_trail=True,\n",
    "                      up=vp.vec(0.0, 0.0, 1.0))\n",
    "    wasp55 = vp.sphere(pos=vp.vector(0.0, 0.0, 0.0), radius = 1.0, color=vp.color.red,\n",
    "                    emissive=True)\n",
    "    wasp55_light = vp.local_light(pos=vp.vec(0., 0., 0.), color=vp.color.red)\n",
    "                       \n",
    "    # start force evaluation for first step\n",
    "    Ft = F_gravity(r, m=mass)\n",
    "    while True:\n",
    "        vhalf = v + 0.5*dt * Ft/mass\n",
    "        r += dt * vhalf\n",
    "        Ftdt = F_gravity(r, m=mass)\n",
    "        v = vhalf + 0.5*dt * Ftdt/mass\n",
    "        # new force becomes old force\n",
    "        Ft = Ftdt\n",
    "        \n",
    "        vp.rate(100.)\n",
    "        planet.pos = vp.vec(*r)\n",
    "    \n",
    "vp_planet_orbit()"
   ]
  },
  {
   "cell_type": "code",
   "execution_count": 1,
   "metadata": {
    "collapsed": false
   },
   "outputs": [],
   "source": [
    "\"\"\"Luminosity calculation\"\"\"\n",
    "\n",
    "R = np.linspace(0.000000000000000001, 1.0, 5.)\n",
    "M_wasp55 = 1.0\n",
    "rho = M_wasp55/((4.0/3.0)*(np.pi)*(R)**3)\n",
    "x = R\n",
    "sigma = 5.6704e-05 # in cgs\n",
    "T_eff = 6000 # in Kelvins\n",
    "L = ((4*np.pi)*R**2)*sigma*(0.75*(T_eff**4)*(rho*x + (2/3)))"
   ]
  },
  {
   "cell_type": "code",
   "execution_count": 4,
   "metadata": {
    "collapsed": false
   },
   "outputs": [
    {
     "data": {
      "text/plain": [
       "array([  1.25000000e+34,   1.83923048e-01,   4.12132034e-02,\n",
       "         1.55555556e-02,   5.00000000e-03])"
      ]
     },
     "execution_count": 4,
     "metadata": {},
     "output_type": "execute_result"
    }
   ],
   "source": [
    "\"\"\"Flux deficit calculation\"\"\"\n",
    "mu = (1 - x)**0.5\n",
    "R_pl = 0.1   # radius of planet\n",
    "flux_deficit = ((mu + (2/3))*R_pl**2)/((4/3)*R**2)\n",
    "flux_deficit"
   ]
  },
  {
   "cell_type": "code",
   "execution_count": null,
   "metadata": {
    "collapsed": true
   },
   "outputs": [],
   "source": [
    "\"\"\"Transit time\"\"\"\n",
    "p = 385827.84 # orbital period in seconds\n",
    "b = 0.15 # impact parameter\n",
    "a = 0.0533 # semi-major axis in Au\n",
    "\n",
    "T_duration = (p/(np.pi))*(np.arcsin())\n",
    "\n",
    "\n"
   ]
  },
  {
   "cell_type": "code",
   "execution_count": null,
   "metadata": {
    "collapsed": true
   },
   "outputs": [],
   "source": []
  },
  {
   "cell_type": "code",
   "execution_count": 4,
   "metadata": {
    "collapsed": false
   },
   "outputs": [],
   "source": [
    "import batman\n",
    "import matplotlib.pyplot as plt"
   ]
  },
  {
   "cell_type": "code",
   "execution_count": 10,
   "metadata": {
    "collapsed": false
   },
   "outputs": [],
   "source": [
    "params = batman.TransitParams()       #object to store transit parameters\n",
    "params.t0 = 0.                        #time of inferior conjunction\n",
    "params.per = 1.                       #orbital period\n",
    "params.rp = 0.1                       #planet radius (in units of stellar radii)\n",
    "params.a = 15.                        #semi-major axis (in units of stellar radii)\n",
    "params.inc = 87.                      #orbital inclination (in degrees)\n",
    "params.ecc = 0.                       #eccentricity\n",
    "params.w = 90.                        #longitude of periastron (in degrees)\n",
    "params.limb_dark = \"nonlinear\"        #limb darkening model\n",
    "params.u = [0.5, 0.1, 0.1, -0.1]      #limb darkening coefficients\n",
    "\n",
    "t = np.linspace(-0.025, 0.025, 1000)  #times at which to calculate light curve\n",
    "m = batman.TransitModel(params, t)    #initializes model"
   ]
  },
  {
   "cell_type": "code",
   "execution_count": 11,
   "metadata": {
    "collapsed": false
   },
   "outputs": [
    {
     "ename": "NameError",
     "evalue": "name 'flux' is not defined",
     "output_type": "error",
     "traceback": [
      "\u001b[0;31m---------------------------------------------------------------------------\u001b[0m",
      "\u001b[0;31mNameError\u001b[0m                                 Traceback (most recent call last)",
      "\u001b[0;32m<ipython-input-11-c8f59d025d01>\u001b[0m in \u001b[0;36m<module>\u001b[0;34m()\u001b[0m\n\u001b[0;32m----> 1\u001b[0;31m \u001b[0mplt\u001b[0m\u001b[0;34m.\u001b[0m\u001b[0mplot\u001b[0m\u001b[0;34m(\u001b[0m\u001b[0mt\u001b[0m\u001b[0;34m,\u001b[0m \u001b[0mflux\u001b[0m\u001b[0;34m)\u001b[0m\u001b[0;34m\u001b[0m\u001b[0m\n\u001b[0m\u001b[1;32m      2\u001b[0m \u001b[0mplt\u001b[0m\u001b[0;34m.\u001b[0m\u001b[0mxlabel\u001b[0m\u001b[0;34m(\u001b[0m\u001b[0;34m\"Time from central transit\"\u001b[0m\u001b[0;34m)\u001b[0m\u001b[0;34m\u001b[0m\u001b[0m\n\u001b[1;32m      3\u001b[0m \u001b[0mplt\u001b[0m\u001b[0;34m.\u001b[0m\u001b[0mylabel\u001b[0m\u001b[0;34m(\u001b[0m\u001b[0;34m\"Relative flux\"\u001b[0m\u001b[0;34m)\u001b[0m\u001b[0;34m\u001b[0m\u001b[0m\n\u001b[1;32m      4\u001b[0m \u001b[0mplt\u001b[0m\u001b[0;34m.\u001b[0m\u001b[0mshow\u001b[0m\u001b[0;34m(\u001b[0m\u001b[0;34m)\u001b[0m\u001b[0;34m\u001b[0m\u001b[0m\n",
      "\u001b[0;31mNameError\u001b[0m: name 'flux' is not defined"
     ]
    }
   ],
   "source": [
    "plt.plot(t, flux)\n",
    "plt.xlabel(\"Time from central transit\")\n",
    "plt.ylabel(\"Relative flux\")\n",
    "plt.show()"
   ]
  },
  {
   "cell_type": "code",
   "execution_count": null,
   "metadata": {
    "collapsed": false
   },
   "outputs": [],
   "source": [
    "from turtle import *\n",
    "r=60 ## radius of current circle\n",
    "a=20 ## separation\n",
    "circle(r)\n",
    "## separation walk pen up\n",
    "up()\n",
    "left(90)\n",
    "fd(a)\n",
    "right(90) ## restoring direction\n",
    "down()\n",
    "r-=a\n",
    "circle(r)\n",
    "mainloop()"
   ]
  },
  {
   "cell_type": "code",
   "execution_count": null,
   "metadata": {
    "collapsed": true
   },
   "outputs": [],
   "source": []
  },
  {
   "cell_type": "code",
   "execution_count": null,
   "metadata": {
    "collapsed": true
   },
   "outputs": [],
   "source": []
  }
 ],
 "metadata": {
  "anaconda-cloud": {},
  "kernelspec": {
   "display_name": "VPython",
   "language": "python",
   "name": "vpython"
  },
  "language_info": {
   "codemirror_mode": {
    "name": "ipython",
    "version": 3
   },
   "file_extension": ".py",
   "mimetype": "text/x-python",
   "name": "python",
   "nbconvert_exporter": "python",
   "pygments_lexer": "ipython3",
   "version": "3.5.2"
  }
 },
 "nbformat": 4,
 "nbformat_minor": 1
}
