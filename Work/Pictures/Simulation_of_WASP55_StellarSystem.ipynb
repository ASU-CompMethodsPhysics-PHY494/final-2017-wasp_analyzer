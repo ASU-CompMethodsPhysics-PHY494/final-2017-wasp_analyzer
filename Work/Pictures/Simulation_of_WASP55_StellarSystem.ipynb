{
 "cells": [
  {
   "cell_type": "code",
   "execution_count": null,
   "metadata": {
    "collapsed": false,
    "scrolled": true
   },
   "outputs": [
    {
     "data": {
      "application/javascript": [
       "require.undef(\"nbextensions/vpython_libraries/jquery-ui.custom.min\");"
      ],
      "text/plain": [
       "<IPython.core.display.Javascript object>"
      ]
     },
     "metadata": {},
     "output_type": "display_data"
    },
    {
     "data": {
      "application/javascript": [
       "require.undef(\"nbextensions/vpython_libraries/glow.2.1.min\");"
      ],
      "text/plain": [
       "<IPython.core.display.Javascript object>"
      ]
     },
     "metadata": {},
     "output_type": "display_data"
    },
    {
     "data": {
      "application/javascript": [
       "require.undef(\"nbextensions/vpython_libraries/glowcomm\");"
      ],
      "text/plain": [
       "<IPython.core.display.Javascript object>"
      ]
     },
     "metadata": {},
     "output_type": "display_data"
    },
    {
     "data": {
      "application/javascript": [
       "require([\"nbextensions/vpython_libraries/jquery-ui.custom.min\"], function(){console.log(\"JQUERY LOADED\");})"
      ],
      "text/plain": [
       "<IPython.core.display.Javascript object>"
      ]
     },
     "metadata": {},
     "output_type": "display_data"
    },
    {
     "data": {
      "application/javascript": [
       "require([\"nbextensions/vpython_libraries/glow.2.1.min\"], function(){console.log(\"GLOW LOADED\");})"
      ],
      "text/plain": [
       "<IPython.core.display.Javascript object>"
      ]
     },
     "metadata": {},
     "output_type": "display_data"
    },
    {
     "data": {
      "application/javascript": [
       "require([\"nbextensions/vpython_libraries/glowcomm\"], function(){console.log(\"GLOWCOMM LOADED\");})"
      ],
      "text/plain": [
       "<IPython.core.display.Javascript object>"
      ]
     },
     "metadata": {},
     "output_type": "display_data"
    },
    {
     "data": {
      "text/html": [
       "<div id=\"glowscript\" class=\"glowscript\"></div>"
      ],
      "text/plain": [
       "<IPython.core.display.HTML object>"
      ]
     },
     "metadata": {},
     "output_type": "display_data"
    },
    {
     "data": {
      "application/javascript": [
       "window.__context = { glowscript_container: $(\"#glowscript\").removeAttr(\"id\")}"
      ],
      "text/plain": [
       "<IPython.core.display.Javascript object>"
      ]
     },
     "metadata": {},
     "output_type": "display_data"
    }
   ],
   "source": [
    "import numpy as np\n",
    "import vpython as vp\n",
    "\n",
    "M_wasp55b = 5.38535e-4\n",
    "M_wasp55 = 1.0\n",
    "\n",
    "G_grav = 4.0*np.pi**2.0\n",
    "\n",
    "def F_gravity(r, m=M_wasp55b, M=M_wasp55):\n",
    "    rr = np.sum(r*r)\n",
    "    rhat = r/np.sqrt(rr)\n",
    "    return -G_grav*m*M/rr * rhat\n",
    "\n",
    "def vp_planet_orbit(t_max=1, r0=np.array([1.217, 0.0, 0.0]), v0=np.array([0.0, 6.179, 0.0]), mass=M_wasp55b, M = M_wasp55, dt=0.001):\n",
    "    \"\"\"Visualize 2D planetary motion with velocity verlet\n",
    "    NB: the mass and radius of WASP55 have been normalized\n",
    "    to 1, which has been used to calculate the normalized \n",
    "    radius and mass of WASP55b.\n",
    "    ----------\n",
    "    Distance is in AU and velocity is in AU/year\n",
    "    \n",
    "    0.14396  22.31\n",
    "    ----------\n",
    "    \"\"\"\n",
    "    nsteps = int(t_max/dt)\n",
    "    time = dt * np.arange(nsteps)\n",
    "    dim = len(r0)\n",
    "    assert len(v0) == dim\n",
    "\n",
    "    r = np.array(r0, copy=True)\n",
    "    v = np.array(v0, copy=True)\n",
    "    \n",
    "    scene = vp.display(title=\"WASP-55b around WASP-55\",background=vp.color.black,\n",
    "                      forward=vp.vec(0.0, 2.0, -1.0))\n",
    "    planet = vp.sphere(pos=vp.vector(*r), radius=0.1, make_trail=True,\n",
    "                      up=vp.vec(0.0, 0.0, 1.0))\n",
    "    wasp55 = vp.sphere(pos=vp.vector(0.0, 0.0, 0.0), radius = 1.0, color=vp.color.red,\n",
    "                    emissive=True)\n",
    "    wasp55_light = vp.local_light(pos=vp.vec(0., 0., 0.), color=vp.color.red)\n",
    "                       \n",
    "    # start force evaluation for first step\n",
    "    Ft = F_gravity(r, m=mass)\n",
    "    while True:\n",
    "        vhalf = v + 0.5*dt * Ft/mass\n",
    "        r += dt * vhalf\n",
    "        Ftdt = F_gravity(r, m=mass)\n",
    "        v = vhalf + 0.5*dt * Ftdt/mass\n",
    "        # new force becomes old force\n",
    "        Ft = Ftdt\n",
    "        \n",
    "        vp.rate(100.)\n",
    "        planet.pos = vp.vec(*r)\n",
    "\n",
    "    x = np.arange(0.,1.,0.1)\n",
    "    mu = (1. - x)**0.5\n",
    "    flux_deficit = ((mu + (2/3))*planet.radius**2)/((4/3)*wasp55.radius**2)\n",
    "    \n",
    "    return time, r, v\n",
    "    \n",
    "vp_planet_orbit()"
   ]
  },
  {
   "cell_type": "code",
   "execution_count": null,
   "metadata": {
    "collapsed": false
   },
   "outputs": [],
   "source": []
  },
  {
   "cell_type": "code",
   "execution_count": null,
   "metadata": {
    "collapsed": true
   },
   "outputs": [],
   "source": []
  },
  {
   "cell_type": "code",
   "execution_count": 1,
   "metadata": {
    "collapsed": false
   },
   "outputs": [
    {
     "data": {
      "text/plain": [
       "(10,)"
      ]
     },
     "execution_count": 1,
     "metadata": {},
     "output_type": "execute_result"
    },
    {
     "name": "stdout",
     "output_type": "stream",
     "text": [
      "ERROR! Session/line number was not unique in database. History logging moved to new session 1033\n"
     ]
    }
   ],
   "source": [
    "def flux_deficit(R_pl = 0.1, R = 1.):\n",
    "    x = np.arange(0.,1.,0.1)\n",
    "    mu = (1. - x)**0.5\n",
    "    flux_deficit = ((mu + (2/3))*R_pl**2)/((4/3)*R**2)\n",
    "    return flux_deficit\n",
    "flux_deficit().shape"
   ]
  },
  {
   "cell_type": "code",
   "execution_count": 2,
   "metadata": {
    "collapsed": false
   },
   "outputs": [
    {
     "data": {
      "text/plain": [
       "(10,)"
      ]
     },
     "execution_count": 2,
     "metadata": {},
     "output_type": "execute_result"
    }
   ],
   "source": [
    "\"\"\"Transit time\"\"\"\n",
    "p = 385827.84 # orbital period in seconds\n",
    "b = 0.15 # impact parameter\n",
    "a = 7829770 # semi-major axis in Au is 0.0533, value used given in km\n",
    "R = np.arange(0., 1.,0.1)\n",
    "R_pl = 0.1\n",
    "\n",
    "T_duration = (p/(np.pi))*np.arcsin((((R + R_pl)**2 - (b*R)**2)**0.5)/a)\n",
    "T_duration.shape"
   ]
  },
  {
   "cell_type": "code",
   "execution_count": 3,
   "metadata": {
    "collapsed": false
   },
   "outputs": [
    {
     "name": "stderr",
     "output_type": "stream",
     "text": [
      "//anaconda/lib/python3.5/site-packages/ipykernel/__main__.py:5: RuntimeWarning: divide by zero encountered in true_divide\n",
      "//anaconda/lib/python3.5/site-packages/ipykernel/__main__.py:8: RuntimeWarning: invalid value encountered in multiply\n"
     ]
    },
    {
     "data": {
      "text/plain": [
       "(10,)"
      ]
     },
     "execution_count": 3,
     "metadata": {},
     "output_type": "execute_result"
    }
   ],
   "source": [
    "\"\"\"Luminosity calculation\"\"\"\n",
    "x = np.arange(0.,1.,0.1)\n",
    "Rx = np.arange(0., 1.0, 0.1)\n",
    "M_wasp55 = 1.0\n",
    "rho = M_wasp55/((4.0/3.0)*(np.pi)*(Rx)**3)\n",
    "sigma = 5.6704e-05 # in cgs\n",
    "T_eff = 6000 # in Kelvins\n",
    "L = ((4*np.pi)*Rx**2)*sigma*(0.75*(T_eff**4)*(rho*x + (2/3)))\n",
    "L.shape"
   ]
  },
  {
   "cell_type": "code",
   "execution_count": 4,
   "metadata": {
    "collapsed": false,
    "scrolled": true
   },
   "outputs": [
    {
     "data": {
      "image/png": "[encoded data removed]",
      "text/plain": [
       "<matplotlib.figure.Figure at 0x109e42c18>"
      ]
     },
     "metadata": {},
     "output_type": "display_data"
    }
   ],
   "source": [
    "import matplotlib.pyplot as plt\n",
    "\n",
    "plt.plot(T_duration, L)\n",
    "plt.show()"
   ]
  },
  {
   "cell_type": "code",
   "execution_count": null,
   "metadata": {
    "collapsed": false,
    "scrolled": true
   },
   "outputs": [],
   "source": []
  },
  {
   "cell_type": "code",
   "execution_count": null,
   "metadata": {
    "collapsed": false
   },
   "outputs": [],
   "source": []
  },
  {
   "cell_type": "code",
   "execution_count": null,
   "metadata": {
    "collapsed": true
   },
   "outputs": [],
   "source": []
  },
  {
   "cell_type": "code",
   "execution_count": null,
   "metadata": {
    "collapsed": false
   },
   "outputs": [],
   "source": []
  },
  {
   "cell_type": "code",
   "execution_count": null,
   "metadata": {
    "collapsed": false
   },
   "outputs": [],
   "source": []
  },
  {
   "cell_type": "code",
   "execution_count": null,
   "metadata": {
    "collapsed": true
   },
   "outputs": [],
   "source": []
  },
  {
   "cell_type": "code",
   "execution_count": null,
   "metadata": {
    "collapsed": false
   },
   "outputs": [],
   "source": []
  },
  {
   "cell_type": "code",
   "execution_count": null,
   "metadata": {
    "collapsed": true
   },
   "outputs": [],
   "source": []
  },
  {
   "cell_type": "code",
   "execution_count": null,
   "metadata": {
    "collapsed": true
   },
   "outputs": [],
   "source": []
  },
  {
   "cell_type": "code",
   "execution_count": 5,
   "metadata": {
    "collapsed": false
   },
   "outputs": [
    {
     "data": {
      "image/png": "[encoded data removed]",
      "text/plain": [
       "<matplotlib.figure.Figure at 0x10d366208>"
      ]
     },
     "metadata": {},
     "output_type": "display_data"
    }
   ],
   "source": [
    "import batman\n",
    "import matplotlib.pyplot as plt\n",
    "\n",
    "params = batman.TransitParams()       #object to store transit parameters\n",
    "params.t0 = 0.                        #time of inferior conjunction\n",
    "params.per = 1.                       #orbital period\n",
    "params.rp = 0.1                       #planet radius (in units of stellar radii)\n",
    "params.a = 15.                        #semi-major axis (in units of stellar radii)\n",
    "params.inc = 87.                      #orbital inclination (in degrees)\n",
    "params.ecc = 0.                       #eccentricity\n",
    "params.w = 90.                        #longitude of periastron (in degrees)\n",
    "params.limb_dark = \"nonlinear\"        #limb darkening model\n",
    "params.u = [0.5, 0.1, 0.1, -0.1]      #limb darkening coefficients\n",
    "\n",
    "t = np.linspace(-0.025, 0.025, 1000)  #times at which to calculate light curve\n",
    "m = batman.TransitModel(params, t)    #initializes model\n",
    "flux = m.light_curve(params)\n",
    "\n",
    "plt.plot(t, flux)\n",
    "plt.xlabel(\"Time from central transit\")\n",
    "plt.ylabel(\"Relative flux\")\n",
    "plt.show()"
   ]
  },
  {
   "cell_type": "code",
   "execution_count": null,
   "metadata": {
    "collapsed": true
   },
   "outputs": [],
   "source": []
  },
  {
   "cell_type": "code",
   "execution_count": null,
   "metadata": {
    "collapsed": true
   },
   "outputs": [],
   "source": []
  },
  {
   "cell_type": "code",
   "execution_count": null,
   "metadata": {
    "collapsed": true
   },
   "outputs": [],
   "source": []
  },
  {
   "cell_type": "code",
   "execution_count": null,
   "metadata": {
    "collapsed": true
   },
   "outputs": [],
   "source": []
  },
  {
   "cell_type": "code",
   "execution_count": null,
   "metadata": {
    "collapsed": true
   },
   "outputs": [],
   "source": []
  },
  {
   "cell_type": "code",
   "execution_count": null,
   "metadata": {
    "collapsed": true
   },
   "outputs": [],
   "source": []
  }
 ],
 "metadata": {
  "anaconda-cloud": {},
  "kernelspec": {
   "display_name": "VPython",
   "language": "python",
   "name": "vpython"
  },
  "language_info": {
   "codemirror_mode": {
    "name": "ipython",
    "version": 3
   },
   "file_extension": ".py",
   "mimetype": "text/x-python",
   "name": "python",
   "nbconvert_exporter": "python",
   "pygments_lexer": "ipython3",
   "version": "3.5.2"
  }
 },
 "nbformat": 4,
 "nbformat_minor": 1
}
