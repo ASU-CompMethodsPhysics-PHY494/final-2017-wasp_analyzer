{
 "cells": [
  {
   "cell_type": "code",
   "execution_count": 1,
   "metadata": {
    "collapsed": true
   },
   "outputs": [],
   "source": [
    "import parameters\n",
    "from parameters import *"
   ]
  },
  {
   "cell_type": "code",
   "execution_count": null,
   "metadata": {
    "collapsed": false,
    "scrolled": false
   },
   "outputs": [
    {
     "data": {
      "application/javascript": [
       "require.undef(\"nbextensions/vpython_libraries/jquery-ui.custom.min\");"
      ],
      "text/plain": [
       "<IPython.core.display.Javascript object>"
      ]
     },
     "metadata": {},
     "output_type": "display_data"
    },
    {
     "data": {
      "application/javascript": [
       "require.undef(\"nbextensions/vpython_libraries/glow.2.1.min\");"
      ],
      "text/plain": [
       "<IPython.core.display.Javascript object>"
      ]
     },
     "metadata": {},
     "output_type": "display_data"
    },
    {
     "data": {
      "application/javascript": [
       "require.undef(\"nbextensions/vpython_libraries/glowcomm\");"
      ],
      "text/plain": [
       "<IPython.core.display.Javascript object>"
      ]
     },
     "metadata": {},
     "output_type": "display_data"
    },
    {
     "data": {
      "application/javascript": [
       "require([\"nbextensions/vpython_libraries/jquery-ui.custom.min\"], function(){console.log(\"JQUERY LOADED\");})"
      ],
      "text/plain": [
       "<IPython.core.display.Javascript object>"
      ]
     },
     "metadata": {},
     "output_type": "display_data"
    },
    {
     "data": {
      "application/javascript": [
       "require([\"nbextensions/vpython_libraries/glow.2.1.min\"], function(){console.log(\"GLOW LOADED\");})"
      ],
      "text/plain": [
       "<IPython.core.display.Javascript object>"
      ]
     },
     "metadata": {},
     "output_type": "display_data"
    },
    {
     "data": {
      "application/javascript": [
       "require([\"nbextensions/vpython_libraries/glowcomm\"], function(){console.log(\"GLOWCOMM LOADED\");})"
      ],
      "text/plain": [
       "<IPython.core.display.Javascript object>"
      ]
     },
     "metadata": {},
     "output_type": "display_data"
    },
    {
     "data": {
      "text/html": [
       "<div id=\"glowscript\" class=\"glowscript\"></div>"
      ],
      "text/plain": [
       "<IPython.core.display.HTML object>"
      ]
     },
     "metadata": {},
     "output_type": "display_data"
    },
    {
     "data": {
      "application/javascript": [
       "window.__context = { glowscript_container: $(\"#glowscript\").removeAttr(\"id\")}"
      ],
      "text/plain": [
       "<IPython.core.display.Javascript object>"
      ]
     },
     "metadata": {},
     "output_type": "display_data"
    }
   ],
   "source": [
    "import numpy as np\n",
    "import vpython as vp\n",
    "\n",
    "M_wasp55b = 5.38535e-4\n",
    "M_wasp55 = 1.0\n",
    "\n",
    "G_grav = 4.0*np.pi**2.0\n",
    "\n",
    "def F_gravity(r, m=M_wasp55b, M=M_wasp55):\n",
    "    rr = np.sum(r*r)\n",
    "    rhat = r/np.sqrt(rr)\n",
    "    return -G_grav*m*M/rr * rhat\n",
    "\n",
    "def vp_planet_orbit(r0=np.array([1.5, 0.0, 0.0]), v0=np.array([0.0, 6.179, 0.0]), mass=M_wasp55b, dt=0.001):\n",
    "    \"\"\"Visualize 2D planetary motion with velocity verlet\"\"\"\n",
    "    dim = len(r0)\n",
    "    assert len(v0) == dim\n",
    "\n",
    "    r = np.array(r0, copy=True)\n",
    "    v = np.array(v0, copy=True)\n",
    "\n",
    "    \n",
    "    scene = vp.display(title=\"WASP-55b around WASP-55\", background=vp.color.black,\n",
    "                      forward=vp.vec(0.0, 2.0, -1.0))\n",
    "    planet = vp.sphere(pos=vp.vector(*r), radius=0.1, make_trail=True,\n",
    "                      up=vp.vec(0.0, 0.0, 1.0))\n",
    "    wasp55 = vp.sphere(pos=vp.vector(0.0, 0.0, 0.0), radius=1., color=vp.color.red,\n",
    "                    emissive=True)\n",
    "    sunlight = vp.local_light(pos=vp.vec(0., 0., 0.), color=vp.color.red)\n",
    "                       \n",
    "    # start force evaluation for first step\n",
    "    Ft = F_gravity(r, m=mass)\n",
    "    while True:\n",
    "        vhalf = v + 0.5*dt * Ft/mass\n",
    "        r += dt * vhalf\n",
    "        Ftdt = F_gravity(r, m=mass)\n",
    "        v = vhalf + 0.5*dt * Ftdt/mass\n",
    "        # new force becomes old force\n",
    "        Ft = Ftdt\n",
    "        \n",
    "        vp.rate(200.)\n",
    "        planet.pos = vp.vec(*r)\n",
    "    \n",
    "vp_planet_orbit()"
   ]
  },
  {
   "cell_type": "code",
   "execution_count": null,
   "metadata": {
    "collapsed": true
   },
   "outputs": [],
   "source": []
  }
 ],
 "metadata": {
  "anaconda-cloud": {},
  "kernelspec": {
   "display_name": "VPython",
   "language": "python",
   "name": "vpython"
  },
  "language_info": {
   "codemirror_mode": {
    "name": "ipython",
    "version": 3
   },
   "file_extension": ".py",
   "mimetype": "text/x-python",
   "name": "python",
   "nbconvert_exporter": "python",
   "pygments_lexer": "ipython3",
   "version": "3.5.2"
  }
 },
 "nbformat": 4,
 "nbformat_minor": 1
}
