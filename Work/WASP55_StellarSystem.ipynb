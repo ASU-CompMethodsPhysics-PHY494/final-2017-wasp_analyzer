{
 "cells": [
  {
   "cell_type": "code",
   "execution_count": 9,
   "metadata": {
    "collapsed": false
   },
   "outputs": [],
   "source": [
    "import numpy as np\n",
    "import parameters\n",
    "from parameters import *\n",
    "\n",
    "G = parameters.G_local"
   ]
  },
  {
   "cell_type": "code",
   "execution_count": 10,
   "metadata": {
    "collapsed": true
   },
   "outputs": [],
   "source": [
    "def initial_position(planet, direction1 = np.array([1,0])):\n",
    "    direction1 = np.asarray(direction1)\n",
    "    return np.array([direction1*i for i in (planet['semi-major']*(1+planet['eccentricity']))])"
   ]
  },
  {
   "cell_type": "code",
   "execution_count": 11,
   "metadata": {
    "collapsed": true
   },
   "outputs": [],
   "source": [
    "def initial_velocity(star, planet, direction=np.array([0,-1])):\n",
    "    direction = np.asarray(direction)\n",
    "    return np.array([direction*v for v in np.sqrt(G*star['mass']*(1 - planet['eccentricity']) / (planets['semi-major'] * (1 + planet['eccentricity'])))])"
   ]
  },
  {
   "cell_type": "code",
   "execution_count": 12,
   "metadata": {
    "collapsed": false,
    "scrolled": true
   },
   "outputs": [],
   "source": [
    "def F_gravity_single(r, m, M=star['mass']):\n",
    "    \"\"\"Force for one planet at position r with mass m\"\"\"\n",
    "    rr = np.sum(r*r)\n",
    "    rhat = r/np.sqrt(rr)\n",
    "    return (-G*M*m / rr) * rhat"
   ]
  },
  {
   "cell_type": "code",
   "execution_count": 13,
   "metadata": {
    "collapsed": true
   },
   "outputs": [],
   "source": [
    "def F_planet(positions):\n",
    "    \n",
    "    planetA = positions[0]\n",
    "    \n",
    "    \n",
    "    F_on_planetA = F_gravity(planetA, planet['mass'], star['mass']) + F_UN\n",
    "    return np.array([F_on_planetA])"
   ]
  },
  {
   "cell_type": "code",
   "execution_count": null,
   "metadata": {
    "collapsed": true
   },
   "outputs": [],
   "source": []
  },
  {
   "cell_type": "code",
   "execution_count": 14,
   "metadata": {
    "collapsed": false
   },
   "outputs": [],
   "source": [
    "def planetary_orbit(dt=0.01, t_max=1):\n",
    "    nsteps = int(t_max/dt)\n",
    "    time = dt * np.arange(nsteps)\n",
    "\n",
    "    # shape = (step, planet, x/y)\n",
    "    r = np.zeros((len(time), 6, 2))\n",
    "    v = np.zeros_like(r)\n",
    "\n",
    "    #initial_poition(planets)\n",
    "\n",
    "    r[0, :, :] = initial_position(planet)\n",
    "    v[0, :, :] = initial_velocity(star, planet)\n",
    "   \n",
    "    masses = np.array(planet['mass'])\n",
    "\n",
    "    # start force evaluation for first step\n",
    "    Ft = F_planets_decoupled(r[0], planet['mass'])\n",
    "    for i in range(nsteps-1):\n",
    "        vhalf = v[i] + 0.5*dt * Ft/planet['mass'][:, np.newaxis]\n",
    "        r[i+1, :] = r[i] + dt * vhalf\n",
    "        Ftdt = F_planets_decoupled(r[i+1], planet['mass'])\n",
    "        v[i+1, :] = vhalf + 0.5*dt * Ftdt/planet['mass'][:, np.newaxis]\n",
    "        # new force becomes old force\n",
    "        Ft = Ftdt\n",
    "    return time, r, v"
   ]
  },
  {
   "cell_type": "code",
   "execution_count": 15,
   "metadata": {
    "collapsed": false
   },
   "outputs": [
    {
     "ename": "NameError",
     "evalue": "name 'r' is not defined",
     "output_type": "error",
     "traceback": [
      "\u001b[0;31m---------------------------------------------------------------------------\u001b[0m",
      "\u001b[0;31mNameError\u001b[0m                                 Traceback (most recent call last)",
      "\u001b[0;32m<ipython-input-15-72cfd272ace1>\u001b[0m in \u001b[0;36m<module>\u001b[0;34m()\u001b[0m\n\u001b[0;32m----> 1\u001b[0;31m \u001b[0mr\u001b[0m\u001b[0;34m\u001b[0m\u001b[0m\n\u001b[0m",
      "\u001b[0;31mNameError\u001b[0m: name 'r' is not defined"
     ]
    }
   ],
   "source": [
    "r"
   ]
  },
  {
   "cell_type": "code",
   "execution_count": 16,
   "metadata": {
    "collapsed": false
   },
   "outputs": [
    {
     "ename": "NameError",
     "evalue": "name 'r' is not defined",
     "output_type": "error",
     "traceback": [
      "\u001b[0;31m---------------------------------------------------------------------------\u001b[0m",
      "\u001b[0;31mNameError\u001b[0m                                 Traceback (most recent call last)",
      "\u001b[0;32m<ipython-input-16-f4c9d4cb95ab>\u001b[0m in \u001b[0;36m<module>\u001b[0;34m()\u001b[0m\n\u001b[1;32m      3\u001b[0m \u001b[0mmatplotlib\u001b[0m\u001b[0;34m.\u001b[0m\u001b[0mstyle\u001b[0m\u001b[0;34m.\u001b[0m\u001b[0muse\u001b[0m\u001b[0;34m(\u001b[0m\u001b[0;34m\"ggplot\"\u001b[0m\u001b[0;34m)\u001b[0m\u001b[0;34m\u001b[0m\u001b[0m\n\u001b[1;32m      4\u001b[0m \u001b[0;34m\u001b[0m\u001b[0m\n\u001b[0;32m----> 5\u001b[0;31m \u001b[0mplanetA\u001b[0m \u001b[0;34m=\u001b[0m \u001b[0mr\u001b[0m\u001b[0;34m[\u001b[0m\u001b[0;34m:\u001b[0m\u001b[0;34m,\u001b[0m\u001b[0;36m0\u001b[0m\u001b[0;34m]\u001b[0m\u001b[0;34m\u001b[0m\u001b[0m\n\u001b[0m\u001b[1;32m      6\u001b[0m \u001b[0;34m\u001b[0m\u001b[0m\n\u001b[1;32m      7\u001b[0m \u001b[0;31m# plot orbits\u001b[0m\u001b[0;34m\u001b[0m\u001b[0;34m\u001b[0m\u001b[0m\n",
      "\u001b[0;31mNameError\u001b[0m: name 'r' is not defined"
     ]
    }
   ],
   "source": [
    "import matplotlib\n",
    "import matplotlib.pyplot as plt\n",
    "matplotlib.style.use(\"ggplot\")\n",
    "\n",
    "planetA = r[:,0]\n",
    "\n",
    "# plot orbits\n",
    "\n",
    "ax = plt.subplot()\n",
    "ax.plot(planetB[:,0], planetB[:, 1], label=\"TRAPPIST-1b\")\n",
    "ax.plot([0] ,[0], marker='o', markersize=3, color=\"red\")\n",
    "ax.annotate('TRAPPIST-1', xy=(2, 1), xytext=(10, 10),\n",
    "            arrowprops=dict(facecolor='black', shrink=0.05),\n",
    "            )\n",
    "plt.title('TRAPPIST-1 Orbital System')\n",
    "plt.ylabel('Y Axis')\n",
    "plt.xlabel('X Axis')\n",
    "plt.legend(fontsize = 'xx-small')"
   ]
  },
  {
   "cell_type": "code",
   "execution_count": null,
   "metadata": {
    "collapsed": true
   },
   "outputs": [],
   "source": []
  },
  {
   "cell_type": "code",
   "execution_count": 17,
   "metadata": {
    "collapsed": true
   },
   "outputs": [],
   "source": [
    "def flux_deficit(R_pl = 0.1, R = 1.):\n",
    "    x = np.arange(0.,1.,0.1)\n",
    "    mu = (1. - x)**0.5\n",
    "    flux_deficit = ((mu + (2/3))*R_pl**2)/((4/3)*R**2)\n",
    "    return flux_deficit"
   ]
  },
  {
   "cell_type": "code",
   "execution_count": 18,
   "metadata": {
    "collapsed": true
   },
   "outputs": [],
   "source": [
    " \"\"\"Transit time\"\"\"\n",
    "p = 385827.84 # orbital period in seconds\n",
    "b = 0.15 # impact parameter\n",
    "a = 7829770 # semi-major axis in Au is 0.0533, value used given in km\n",
    "R = np.arange(0., 1.,0.1)\n",
    "R_pl = 0.1\n",
    "\n",
    "T_duration = (p/(np.pi))*np.arcsin((((R + R_pl)**2 - (b*R)**2)**0.5)/a)"
   ]
  },
  {
   "cell_type": "code",
   "execution_count": null,
   "metadata": {
    "collapsed": true
   },
   "outputs": [],
   "source": []
  },
  {
   "cell_type": "code",
   "execution_count": 19,
   "metadata": {
    "collapsed": false,
    "scrolled": true
   },
   "outputs": [
    {
     "name": "stderr",
     "output_type": "stream",
     "text": [
      "//anaconda/lib/python3.5/site-packages/ipykernel/__main__.py:5: RuntimeWarning: divide by zero encountered in true_divide\n",
      "//anaconda/lib/python3.5/site-packages/ipykernel/__main__.py:8: RuntimeWarning: invalid value encountered in multiply\n"
     ]
    }
   ],
   "source": [
    "\"\"\"Luminosity calculation\"\"\"\n",
    "x = np.arange(0.,1.,0.1)\n",
    "Rx = np.arange(0., 1.0, 0.1)\n",
    "M_wasp55 = 1.0\n",
    "rho = M_wasp55/((4.0/3.0)*(np.pi)*(Rx)**3)\n",
    "sigma = 5.6704e-05 # in cgs\n",
    "T_eff = 6000 # in Kelvins\n",
    "L = ((4*np.pi)*Rx**2)*sigma*(0.75*(T_eff**4)*(rho*x + (2/3)))"
   ]
  },
  {
   "cell_type": "code",
   "execution_count": 20,
   "metadata": {
    "collapsed": false
   },
   "outputs": [
    {
     "data": {
      "image/png": "[encoded data removed]",
      "text/plain": [
       "<matplotlib.figure.Figure at 0x10acd7fd0>"
      ]
     },
     "metadata": {},
     "output_type": "display_data"
    }
   ],
   "source": [
    "import matplotlib.pyplot as plt\n",
    "\n",
    "plt.plot(T_duration, L)\n",
    "plt.show()"
   ]
  },
  {
   "cell_type": "code",
   "execution_count": null,
   "metadata": {
    "collapsed": true
   },
   "outputs": [],
   "source": []
  },
  {
   "cell_type": "code",
   "execution_count": null,
   "metadata": {
    "collapsed": true
   },
   "outputs": [],
   "source": []
  },
  {
   "cell_type": "code",
   "execution_count": null,
   "metadata": {
    "collapsed": true
   },
   "outputs": [],
   "source": []
  }
 ],
 "metadata": {
  "anaconda-cloud": {},
  "kernelspec": {
   "display_name": "Python [conda root]",
   "language": "python",
   "name": "conda-root-py"
  },
  "language_info": {
   "codemirror_mode": {
    "name": "ipython",
    "version": 3
   },
   "file_extension": ".py",
   "mimetype": "text/x-python",
   "name": "python",
   "nbconvert_exporter": "python",
   "pygments_lexer": "ipython3",
   "version": "3.5.2"
  }
 },
 "nbformat": 4,
 "nbformat_minor": 1
}
