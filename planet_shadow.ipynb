{
 "cells": [
  {
   "cell_type": "code",
   "execution_count": 24,
   "metadata": {
    "collapsed": true
   },
   "outputs": [],
   "source": [
    "import numpy as np\n",
    "%matplotlib inline\n",
    "import matplotlib.pyplot as plt"
   ]
  },
  {
   "cell_type": "code",
   "execution_count": 25,
   "metadata": {
    "collapsed": false,
    "scrolled": true
   },
   "outputs": [],
   "source": [
    "#plt.imshow(star)\n",
    "\n",
    "def plotarray(x):\n",
    "    fig = plt.figure(figsize=(6, 3.2))\n",
    "\n",
    "    ax = fig.add_subplot(111)\n",
    "    ax.set_title('colorMap')\n",
    "    plt.imshow(x)\n",
    "    ax.set_aspect('equal')\n",
    "\n",
    "    cax = fig.add_axes([0.12, 0.1, 0.78, 0.8])\n",
    "    cax.get_xaxis().set_visible(False)\n",
    "    cax.get_yaxis().set_visible(False)\n",
    "    cax.patch.set_alpha(0)\n",
    "    cax.set_frame_on(False)\n",
    "    plt.colorbar(orientation='vertical')\n",
    "    plt.show()\n"
   ]
  },
  {
   "cell_type": "code",
   "execution_count": 63,
   "metadata": {
    "collapsed": false
   },
   "outputs": [
    {
     "data": {
      "image/png": "[encoded data removed]",
      "text/plain": [
       "<matplotlib.figure.Figure at 0x7fee043cfac8>"
      ]
     },
     "metadata": {},
     "output_type": "display_data"
    }
   ],
   "source": [
    "a=100\n",
    "rp=20\n",
    "center = a+2*rp\n",
    "\n",
    "\n",
    "star = np.zeros((2*a+1+4*rp,2*a+1+4*rp), dtype=np.float64)\n",
    "\n",
    "for i in range(-a,a+1):\n",
    "    for j in range(-a,a+1):\n",
    "        if (i**2 + j**2)>a**2:\n",
    "            star[[i+center],[j+center]] = 0\n",
    "        else:\n",
    "            I = 1-0.6096*(1-np.sqrt((a**2 - (i**2 + j**2))/a**2))\n",
    "            star[[i+center],[j+center]] = I\n",
    "            \n",
    "plotarray(star)"
   ]
  },
  {
   "cell_type": "code",
   "execution_count": 61,
   "metadata": {
    "collapsed": true
   },
   "outputs": [],
   "source": [
    "planet = np.ones_like(star, dtype=np.bool)"
   ]
  },
  {
   "cell_type": "code",
   "execution_count": 28,
   "metadata": {
    "collapsed": false
   },
   "outputs": [],
   "source": [
    "for i in range(-rp,rp):\n",
    "    for j in range(-rp,rp):\n",
    "            if (i**2 + j**2)>rp**2:\n",
    "                planet[[i+rp+a],[j+rp]] = True\n",
    "            else:\n",
    "                planet[[i+rp+a],[j+rp]] = False"
   ]
  },
  {
   "cell_type": "code",
   "execution_count": 122,
   "metadata": {
    "collapsed": true
   },
   "outputs": [],
   "source": [
    "def shift_planet(shape, rp, x, y=None):\n",
    "    \"\"\"Shift planet with radius rp to position x, y.\n",
    "    \n",
    "    Arguments\n",
    "    ---------\n",
    "    shape : (NX, NY)\n",
    "         size of star array in pixels (array indices)\n",
    "    rp : float\n",
    "        radius (in pixels)\n",
    "    x : float\n",
    "        position in pixels\n",
    "    y : float\n",
    "        position in pixels, default is at half, NY/2\n",
    "    \"\"\"\n",
    "    NX, NY = shape\n",
    "    if y is None:\n",
    "        y = NY/2\n",
    "    x = round(x)\n",
    "    y = round(y)\n",
    "        \n",
    "    planet = np.zeros(shape, dtype=np.bool)\n",
    "    planet[:,:] = True\n",
    "    for i in range(-rp,rp):\n",
    "        for j in range(-rp,rp):\n",
    "            ix = (i + x)\n",
    "            jy = (j + y)\n",
    "            if 0 < ix < NX and 0 < jy < NY:\n",
    "                planet[ix, jy] = (i**2 + j**2 > rp**2)\n",
    "    return planet            \n",
    "    "
   ]
  },
  {
   "cell_type": "code",
   "execution_count": 123,
   "metadata": {
    "collapsed": false
   },
   "outputs": [
    {
     "data": {
      "text/plain": [
       "280"
      ]
     },
     "execution_count": 123,
     "metadata": {},
     "output_type": "execute_result"
    }
   ],
   "source": [
    "planet_positions = []\n",
    "for x in range(2*center):\n",
    "    planet_positions.append(shift_planet(star.shape, rp, x))\n",
    "\n",
    "len(planet_positions)"
   ]
  },
  {
   "cell_type": "code",
   "execution_count": 125,
   "metadata": {
    "collapsed": false
   },
   "outputs": [
    {
     "data": {
      "text/plain": [
       "<matplotlib.image.AxesImage at 0x7feddc3d5cf8>"
      ]
     },
     "execution_count": 125,
     "metadata": {},
     "output_type": "execute_result"
    },
    {
     "data": {
      "image/png": "[encoded data removed]",
      "text/plain": [
       "<matplotlib.figure.Figure at 0x7feddd171d68>"
      ]
     },
     "metadata": {},
     "output_type": "display_data"
    }
   ],
   "source": [
    "plt.imshow(planet_positions[279].T)"
   ]
  },
  {
   "cell_type": "code",
   "execution_count": 126,
   "metadata": {
    "collapsed": false
   },
   "outputs": [
    {
     "data": {
      "text/plain": [
       "<matplotlib.image.AxesImage at 0x7feddc2ee0b8>"
      ]
     },
     "execution_count": 126,
     "metadata": {},
     "output_type": "execute_result"
    },
    {
     "data": {
      "image/png": "[encoded data removed]",
      "text/plain": [
       "<matplotlib.figure.Figure at 0x7feddc368c88>"
      ]
     },
     "metadata": {},
     "output_type": "display_data"
    }
   ],
   "source": [
    "plt.imshow(star)\n",
    "planet_ma = np.ma.masked_array(np.ones(planet.shape), mask=planet_positions[center].T)\n",
    "plt.imshow(planet_ma)"
   ]
  },
  {
   "cell_type": "code",
   "execution_count": 127,
   "metadata": {
    "collapsed": false
   },
   "outputs": [
    {
     "data": {
      "text/plain": [
       "[25032.168984710319,\n",
       " 25032.168984710323,\n",
       " 25032.168984710315,\n",
       " 25032.168984710319,\n",
       " 25032.168984710319,\n",
       " 25032.168984710319,\n",
       " 25032.168984710319,\n",
       " 25032.168984710319,\n",
       " 25032.168984710319,\n",
       " 25032.168984710319,\n",
       " 25032.168984710315,\n",
       " 25032.168984710315,\n",
       " 25032.168984710319,\n",
       " 25032.168984710315,\n",
       " 25032.168984710315,\n",
       " 25032.168984710315,\n",
       " 25032.168984710319,\n",
       " 25032.168984710315,\n",
       " 25032.168984710319,\n",
       " 25032.168984710315,\n",
       " 25032.168984710315,\n",
       " 25031.778584710319,\n",
       " 25025.626115383631,\n",
       " 25017.149654744924,\n",
       " 25006.34475475832,\n",
       " 24993.197816932414,\n",
       " 24978.5347061791,\n",
       " 24962.417706079868,\n",
       " 24945.616535069039,\n",
       " 24927.334399790609,\n",
       " 24907.572914371911,\n",
       " 24887.239413037954,\n",
       " 24865.491121632716,\n",
       " 24843.192166452893,\n",
       " 24819.517746820049,\n",
       " 24795.294674672681,\n",
       " 24769.733125945197,\n",
       " 24743.610369290749,\n",
       " 24717.001506390527,\n",
       " 24689.944214565174,\n",
       " 24662.46630817663,\n",
       " 24634.590452585944,\n",
       " 24606.33599487742,\n",
       " 24577.245257791426,\n",
       " 24548.247489744801,\n",
       " 24518.92545979637,\n",
       " 24489.287624243552,\n",
       " 24459.343969108118,\n",
       " 24429.104411591961,\n",
       " 24399.431403810988,\n",
       " 24369.593850379846,\n",
       " 24340.437687282261,\n",
       " 24311.168102802465,\n",
       " 24282.658318290709,\n",
       " 24254.076643841694,\n",
       " 24226.317710669191,\n",
       " 24200.265092676207,\n",
       " 24175.221187688319,\n",
       " 24152.101381068624,\n",
       " 24131.075159059306,\n",
       " 24112.246735036591,\n",
       " 24099.888424353572,\n",
       " 24088.360302726414,\n",
       " 24077.449240002843,\n",
       " 24067.054960951809,\n",
       " 24057.110820254718,\n",
       " 24047.567952709058,\n",
       " 24038.388454492851,\n",
       " 24029.541809362621,\n",
       " 24021.002785012854,\n",
       " 24012.750093827024,\n",
       " 24004.765490226571,\n",
       " 23997.03313520713,\n",
       " 23989.539133304916,\n",
       " 23982.271185644735,\n",
       " 23975.218323877656,\n",
       " 23968.370702127857,\n",
       " 23961.719431563575,\n",
       " 23955.256446947373,\n",
       " 23948.974397617309,\n",
       " 23942.866557430494,\n",
       " 23936.926749632155,\n",
       " 23931.149283620205,\n",
       " 23925.52890129685,\n",
       " 23920.060731225225,\n",
       " 23914.740249198308,\n",
       " 23909.563244120167,\n",
       " 23904.525788321676,\n",
       " 23899.624211604016,\n",
       " 23894.855078436114,\n",
       " 23890.215167836432,\n",
       " 23885.701455552186,\n",
       " 23881.311098214948,\n",
       " 23877.041419204688,\n",
       " 23872.889895997265,\n",
       " 23868.854148805513,\n",
       " 23864.931930352854,\n",
       " 23861.121116642062,\n",
       " 23857.419698601781,\n",
       " 23853.825774509591,\n",
       " 23850.337543104532,\n",
       " 23846.953297313448,\n",
       " 23843.671418525515,\n",
       " 23840.49037135762,\n",
       " 23837.408698860479,\n",
       " 23834.425018121463,\n",
       " 23831.538016225473,\n",
       " 23828.746446539568,\n",
       " 23826.04912529128,\n",
       " 23823.444928413599,\n",
       " 23820.932788632999,\n",
       " 23818.511692779102,\n",
       " 23816.180679297162,\n",
       " 23813.938835946305,\n",
       " 23811.785297668477,\n",
       " 23809.719244614334,\n",
       " 23807.739900313951,\n",
       " 23805.846529981274,\n",
       " 23804.038438942385,\n",
       " 23802.314971178665,\n",
       " 23800.675507976717,\n",
       " 23799.11946667781,\n",
       " 23797.646299520165,\n",
       " 23796.255492568162,\n",
       " 23794.946564723039,\n",
       " 23793.719066810208,\n",
       " 23792.572580738772,\n",
       " 23791.506718729193,\n",
       " 23790.521122605598,\n",
       " 23789.615463149414,\n",
       " 23788.789439511424,\n",
       " 23788.042778679621,\n",
       " 23787.375235000567,\n",
       " 23786.786589752115,\n",
       " 23786.276650765732,\n",
       " 23785.845252096755,\n",
       " 23785.492253741264,\n",
       " 23785.217541398313,\n",
       " 23785.021026276634,\n",
       " 23784.902644944916,\n",
       " 23784.86235922511,\n",
       " 23784.900156128308,\n",
       " 23785.016047832949,\n",
       " 23785.210071705231,\n",
       " 23785.482290361822,\n",
       " 23785.832791775152,\n",
       " 23786.261689421699,\n",
       " 23786.769122473856,\n",
       " 23787.355256036193,\n",
       " 23788.020281427107,\n",
       " 23788.764416506947,\n",
       " 23789.587906054134,\n",
       " 23790.491022190741,\n",
       " 23791.474064859405,\n",
       " 23792.537362353673,\n",
       " 23793.681271904028,\n",
       " 23794.906180322279,\n",
       " 23796.212504707168,\n",
       " 23797.600693214459,\n",
       " 23799.07122589511,\n",
       " 23800.624615605448,\n",
       " 23802.261408993822,\n",
       " 23803.982187568599,\n",
       " 23805.787568852811,\n",
       " 23807.678207631496,\n",
       " 23809.654797298292,\n",
       " 23811.718071308529,\n",
       " 23813.868804746893,\n",
       " 23816.107816018612,\n",
       " 23818.435968674024,\n",
       " 23820.854173377484,\n",
       " 23823.363390032857,\n",
       " 23825.96463007911,\n",
       " 23828.65895897118,\n",
       " 23831.447498862955,\n",
       " 23834.331431511233,\n",
       " 23837.312001421818,\n",
       " 23840.390519261506,\n",
       " 23843.568365562602,\n",
       " 23846.846994750129,\n",
       " 23850.227939525652,\n",
       " 23853.71281564637,\n",
       " 23857.30332714317,\n",
       " 23861.001272027581,\n",
       " 23864.808548544566,\n",
       " 23868.727162036554,\n",
       " 23872.75923249378,\n",
       " 23876.907002877713,\n",
       " 23881.172848317932,\n",
       " 23885.559286299376,\n",
       " 23890.06898797625,\n",
       " 23894.704790772706,\n",
       " 23899.469712458806,\n",
       " 23904.366966925107,\n",
       " 23909.399981921841,\n",
       " 23914.572419081142,\n",
       " 23919.888196606124,\n",
       " 23925.351515092276,\n",
       " 23930.966887049766,\n",
       " 23936.739170826644,\n",
       " 23942.673609801761,\n",
       " 23948.775877935597,\n",
       " 23955.052133055662,\n",
       " 23961.509079636759,\n",
       " 23968.15404335416,\n",
       " 23974.995060396926,\n",
       " 23982.040985516465,\n",
       " 23989.30162418777,\n",
       " 23996.787896294303,\n",
       " 24004.512041767284,\n",
       " 24012.487883220474,\n",
       " 24020.731167886537,\n",
       " 24029.260023041978,\n",
       " 24038.095579413362,\n",
       " 24047.262853654953,\n",
       " 24056.792051420369,\n",
       " 24066.720599858523,\n",
       " 24077.096562155122,\n",
       " 24087.985021392091,\n",
       " 24099.482225997966,\n",
       " 24111.759055036589,\n",
       " 24130.201711157679,\n",
       " 24151.232687805343,\n",
       " 24174.357375295473,\n",
       " 24199.40629133199,\n",
       " 24225.464054776192,\n",
       " 24253.228272332639,\n",
       " 24281.815374965296,\n",
       " 24310.330736699481,\n",
       " 24339.606053092037,\n",
       " 24368.768108902841,\n",
       " 24398.611722469508,\n",
       " 24428.290965003205,\n",
       " 24458.536939728529,\n",
       " 24488.487203096312,\n",
       " 24518.131847296565,\n",
       " 24547.460896639885,\n",
       " 24576.465906238744,\n",
       " 24605.564119685758,\n",
       " 24633.826302654918,\n",
       " 24661.710148176633,\n",
       " 24689.19632691249,\n",
       " 24716.262193588213,\n",
       " 24742.879956727782,\n",
       " 24769.011965276579,\n",
       " 24794.58314794629,\n",
       " 24818.816271577602,\n",
       " 24842.501202123512,\n",
       " 24864.811177675267,\n",
       " 24886.571059502156,\n",
       " 24906.916795892314,\n",
       " 24926.691254602119,\n",
       " 24944.987221637486,\n",
       " 24961.803241797094,\n",
       " 24977.936326239145,\n",
       " 24992.617069393422,\n",
       " 25005.783666758325,\n",
       " 25016.611057988361,\n",
       " 25025.114406515302,\n",
       " 25031.302190047787,\n",
       " 25031.778584710319,\n",
       " 25032.168984710319,\n",
       " 25032.168984710319,\n",
       " 25032.168984710319,\n",
       " 25032.168984710319,\n",
       " 25032.168984710319,\n",
       " 25032.168984710319,\n",
       " 25032.168984710319,\n",
       " 25032.168984710319,\n",
       " 25032.168984710319,\n",
       " 25032.168984710319,\n",
       " 25032.168984710319,\n",
       " 25032.168984710319,\n",
       " 25032.168984710319,\n",
       " 25032.168984710319,\n",
       " 25032.168984710319,\n",
       " 25032.168984710319,\n",
       " 25032.168984710319,\n",
       " 25032.168984710319,\n",
       " 25032.168984710319]"
      ]
     },
     "execution_count": 127,
     "metadata": {},
     "output_type": "execute_result"
    }
   ],
   "source": [
    "sums = []\n",
    "for i in range(len(planet_positions)):\n",
    "    sums.append(star[planet_positions[i]].sum())\n",
    "    \n",
    "sums"
   ]
  },
  {
   "cell_type": "code",
   "execution_count": 128,
   "metadata": {
    "collapsed": false
   },
   "outputs": [
    {
     "data": {
      "text/plain": [
       "[<matplotlib.lines.Line2D at 0x7feddc27b3c8>]"
      ]
     },
     "execution_count": 128,
     "metadata": {},
     "output_type": "execute_result"
    },
    {
     "data": {
      "image/png": "[encoded data removed]",
      "text/plain": [
       "<matplotlib.figure.Figure at 0x7feddc3305c0>"
      ]
     },
     "metadata": {},
     "output_type": "display_data"
    }
   ],
   "source": [
    "plt.plot(sums)"
   ]
  },
  {
   "cell_type": "code",
   "execution_count": 32,
   "metadata": {
    "collapsed": false
   },
   "outputs": [],
   "source": [
    "planet_ma = np.ma.masked_array(np.ones(planet.shape), mask=planet)\n",
    "np.ma.masked_array?"
   ]
  },
  {
   "cell_type": "code",
   "execution_count": 33,
   "metadata": {
    "collapsed": false,
    "scrolled": true
   },
   "outputs": [
    {
     "data": {
      "text/plain": [
       "<matplotlib.image.AxesImage at 0x7fedddf4f860>"
      ]
     },
     "execution_count": 33,
     "metadata": {},
     "output_type": "execute_result"
    },
    {
     "data": {
      "image/png": "[encoded data removed]",
      "text/plain": [
       "<matplotlib.figure.Figure at 0x7fedddf4f518>"
      ]
     },
     "metadata": {},
     "output_type": "display_data"
    }
   ],
   "source": [
    "plt.imshow(star)\n",
    "plt.imshow(planet_ma)"
   ]
  },
  {
   "cell_type": "code",
   "execution_count": 34,
   "metadata": {
    "collapsed": true
   },
   "outputs": [],
   "source": [
    "plt.imshow?"
   ]
  },
  {
   "cell_type": "code",
   "execution_count": 35,
   "metadata": {
    "collapsed": false
   },
   "outputs": [
    {
     "data": {
      "text/plain": [
       "<matplotlib.image.AxesImage at 0x7feddda714e0>"
      ]
     },
     "execution_count": 35,
     "metadata": {},
     "output_type": "execute_result"
    },
    {
     "data": {
      "image/png": "[encoded data removed]",
      "text/plain": [
       "<matplotlib.figure.Figure at 0x7fede17bf898>"
      ]
     },
     "metadata": {},
     "output_type": "display_data"
    }
   ],
   "source": [
    "plt.imshow(np.ma.masked_array(star, mask=np.logical_not(planet)), origin=\"lower\")"
   ]
  },
  {
   "cell_type": "code",
   "execution_count": 40,
   "metadata": {
    "collapsed": false
   },
   "outputs": [
    {
     "data": {
      "text/plain": [
       "24159.57124554232"
      ]
     },
     "execution_count": 40,
     "metadata": {},
     "output_type": "execute_result"
    }
   ],
   "source": [
    "star[planet].sum()"
   ]
  },
  {
   "cell_type": "code",
   "execution_count": 37,
   "metadata": {
    "collapsed": false
   },
   "outputs": [
    {
     "data": {
      "text/plain": [
       "(39146,)"
      ]
     },
     "execution_count": 37,
     "metadata": {},
     "output_type": "execute_result"
    }
   ],
   "source": [
    "star[planet].shape"
   ]
  },
  {
   "cell_type": "code",
   "execution_count": 38,
   "metadata": {
    "collapsed": false
   },
   "outputs": [
    {
     "data": {
      "text/plain": [
       "25031.388184710322"
      ]
     },
     "execution_count": 38,
     "metadata": {},
     "output_type": "execute_result"
    }
   ],
   "source": [
    "star.sum()"
   ]
  },
  {
   "cell_type": "code",
   "execution_count": 41,
   "metadata": {
    "collapsed": false
   },
   "outputs": [
    {
     "data": {
      "text/plain": [
       "(201, 201)"
      ]
     },
     "execution_count": 41,
     "metadata": {},
     "output_type": "execute_result"
    }
   ],
   "source": [
    "star.shape"
   ]
  },
  {
   "cell_type": "code",
   "execution_count": 42,
   "metadata": {
    "collapsed": false
   },
   "outputs": [
    {
     "data": {
      "text/plain": [
       "40401"
      ]
     },
     "execution_count": 42,
     "metadata": {},
     "output_type": "execute_result"
    }
   ],
   "source": [
    "201*201"
   ]
  },
  {
   "cell_type": "code",
   "execution_count": 147,
   "metadata": {
    "collapsed": false
   },
   "outputs": [
    {
     "data": {
      "text/plain": [
       "2926.3264398866313"
      ]
     },
     "execution_count": 147,
     "metadata": {},
     "output_type": "execute_result"
    }
   ],
   "source": [
    "star_punched = np.ma.masked_array(star, mask=np.logical_not(planet))\n",
    "star_punched.sum()"
   ]
  },
  {
   "cell_type": "code",
   "execution_count": 150,
   "metadata": {
    "collapsed": false
   },
   "outputs": [
    {
     "data": {
      "text/plain": [
       "(81, 81)"
      ]
     },
     "execution_count": 150,
     "metadata": {},
     "output_type": "execute_result"
    }
   ],
   "source": [
    "star_punched.shape"
   ]
  },
  {
   "cell_type": "code",
   "execution_count": 156,
   "metadata": {
    "collapsed": false
   },
   "outputs": [
    {
     "data": {
      "text/plain": [
       "5306"
      ]
     },
     "execution_count": 156,
     "metadata": {},
     "output_type": "execute_result"
    }
   ],
   "source": [
    "(~star_punched.mask).sum()"
   ]
  },
  {
   "cell_type": "code",
   "execution_count": null,
   "metadata": {
    "collapsed": true
   },
   "outputs": [],
   "source": []
  }
 ],
 "metadata": {
  "anaconda-cloud": {},
  "kernelspec": {
   "display_name": "Python 3",
   "language": "python",
   "name": "python3"
  },
  "language_info": {
   "codemirror_mode": {
    "name": "ipython",
    "version": 3
   },
   "file_extension": ".py",
   "mimetype": "text/x-python",
   "name": "python",
   "nbconvert_exporter": "python",
   "pygments_lexer": "ipython3",
   "version": "3.6.0"
  }
 },
 "nbformat": 4,
 "nbformat_minor": 1
}
